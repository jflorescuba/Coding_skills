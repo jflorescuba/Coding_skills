{
 "cells": [
  {
   "cell_type": "markdown",
   "metadata": {},
   "source": [
    "## Python programs : Exercises "
   ]
  },
  {
   "cell_type": "markdown",
   "metadata": {},
   "source": [
    "#### Ex. 1 write a program that converts temperature from Celsius to Fahrenheit. "
   ]
  },
  {
   "cell_type": "code",
   "execution_count": 1,
   "metadata": {},
   "outputs": [
    {
     "name": "stdout",
     "output_type": "stream",
     "text": [
      "The temperature of 56.0 degrees Celsius in Fahrenheit is : 132.8\n"
     ]
    }
   ],
   "source": [
    "def cel2far(temp):\n",
    "    tempf=(temp*9/5) + 32\n",
    "    return tempf\n",
    "\n",
    "Temperature=float(input(\"Type the temperature to convert from Celsius to Fahrenheit\"))\n",
    "\n",
    "print(f\"The temperature of {Temperature} degrees Celsius in Fahrenheit is : {cel2far(Temperature)}\")"
   ]
  },
  {
   "cell_type": "markdown",
   "metadata": {},
   "source": [
    "#### Ex. 2 write a program : calculer la somme des nombres pairs jusqu'à un certain nombre n"
   ]
  },
  {
   "cell_type": "code",
   "execution_count": 17,
   "metadata": {},
   "outputs": [
    {
     "name": "stdout",
     "output_type": "stream",
     "text": [
      "The sum of pair values before n is : 20\n"
     ]
    }
   ],
   "source": [
    "def sum_even_numbers(n):\n",
    "    number=0\n",
    "    res=0\n",
    "    while number < n:\n",
    "        res += number\n",
    "        number = number + 2\n",
    "\n",
    "    return res\n",
    "n=9 #int(input(\"enter an integer n\"))\n",
    "sum_even_n=sum_even_numbers(n)\n",
    "print(f\"The sum of pair values before n is : {sum_even_n}\")\n"
   ]
  },
  {
   "cell_type": "markdown",
   "metadata": {},
   "source": [
    "#### Ex. 3 write a program: vérifier si une chaîne est un palindrome:"
   ]
  },
  {
   "cell_type": "code",
   "execution_count": 54,
   "metadata": {},
   "outputs": [
    {
     "name": "stdout",
     "output_type": "stream",
     "text": [
      "The word/phrase Engage le jeu que je le gagne is a palindrome\n"
     ]
    }
   ],
   "source": [
    "def is_palindrome(s):\n",
    "    is_p=1 # si c'est un palindrome\n",
    "    s_dir_temp = s.split()\n",
    "    s_dir=''.join(s_dir_temp).lower()\n",
    "    s_inv=s_dir[::-1]\n",
    "    if s_dir != s_inv:\n",
    "        is_p=0\n",
    "\n",
    "    return is_p\n",
    "\n",
    "s=\"Engage le jeu que je le gagne\" #input(\"enter a word or phrase\")\n",
    "is_p=is_palindrome(s)\n",
    "\n",
    "if is_p==1:\n",
    "    print(f\"The word/phrase {s} is a palindrome\")\n",
    "\n",
    "else:\n",
    "    print(f\"The word/phrase {s} is not a palindrome\")\n"
   ]
  },
  {
   "cell_type": "markdown",
   "metadata": {},
   "source": [
    "#### Ex. 4 write a program: qui prend les nombres de 1 à n et les ajoute à une liste uniquement s'ils sont pairs."
   ]
  },
  {
   "cell_type": "code",
   "execution_count": 13,
   "metadata": {},
   "outputs": [
    {
     "name": "stdout",
     "output_type": "stream",
     "text": [
      "[2, 4, 6, 8, 10, 12, 14, 16, 18, 20, 22]\n"
     ]
    }
   ],
   "source": [
    "def vec(number):\n",
    "\n",
    "    i=1\n",
    "    lis=[]\n",
    "    while (i<=number):\n",
    "        if (i%2==0):\n",
    "            lis.append(i)\n",
    "        i+=1\n",
    "    return lis \n",
    "\n",
    "maxn=23 #number n\n",
    "\n",
    "v=vec(maxn)\n",
    "print(v)"
   ]
  },
  {
   "cell_type": "markdown",
   "metadata": {},
   "source": [
    "#### Ex. 5 write a program: qui prend une chaine de caractères en entrée et retourne un dictionnaire contenant le décompte de chaque caractère présent dans le chaîne."
   ]
  },
  {
   "cell_type": "code",
   "execution_count": 1,
   "metadata": {},
   "outputs": [
    {
     "name": "stdout",
     "output_type": "stream",
     "text": [
      "Compte des caractères dans la phrase :\n",
      "{'B': 1, 'o': 3, 'n': 2, 'j': 1, 'u': 1, 'r': 1, ' ': 3, 'l': 1, 'e': 2, 'm': 1, 'd': 1, '!': 1}\n"
     ]
    }
   ],
   "source": [
    "def compter_caracteres(chaine):\n",
    "    compte = {}\n",
    "    for caractere in chaine:\n",
    "        if caractere in compte:\n",
    "            compte[caractere] += 1\n",
    "        else:\n",
    "            compte[caractere] = 1\n",
    "    return compte\n",
    "\n",
    "phrase = \"Bonjour le monde !\"\n",
    "resultat = compter_caracteres(phrase)\n",
    "print(\"Compte des caractères dans la phrase :\")\n",
    "print(resultat)\n"
   ]
  },
  {
   "cell_type": "markdown",
   "metadata": {},
   "source": [
    "#### Ex. 6 write a program: calculer le factoriel d'un nombre donné."
   ]
  },
  {
   "cell_type": "code",
   "execution_count": 5,
   "metadata": {},
   "outputs": [
    {
     "name": "stdout",
     "output_type": "stream",
     "text": [
      "factorial de 6 est = \t720\n"
     ]
    }
   ],
   "source": [
    "def fac(n):\n",
    "    fac=1\n",
    "    i=1\n",
    "    while i<=n:\n",
    "        fac*=i\n",
    "        i+=1\n",
    "    return(fac)\n",
    "n=6\n",
    "\n",
    "print(f'factorial de {n} est = \\t{fac(n)}')"
   ]
  },
  {
   "cell_type": "markdown",
   "metadata": {},
   "source": [
    "#### Ex. 7 write a program pour déterminer le jour de la semaine pour une date spécifique et ensuite afficher ce jour en mots."
   ]
  },
  {
   "cell_type": "code",
   "execution_count": 19,
   "metadata": {},
   "outputs": [
    {
     "name": "stdout",
     "output_type": "stream",
     "text": [
      "the weekday is : Vendredi\n"
     ]
    }
   ],
   "source": [
    "import calendar\n",
    "\n",
    "day=11\n",
    "month=3\n",
    "year=1988\n",
    "cal=calendar.weekday(year,month,day)\n",
    "weekday = ['Lundi', 'Mardi', 'Mercredi', 'Jeudi', 'Vendredi', 'Samedi', 'Dimanche']\n",
    "print(f\"the weekday is : {weekday[cal]}\")"
   ]
  },
  {
   "cell_type": "markdown",
   "metadata": {},
   "source": [
    "#### Ex. 8 Write a program to solve quadratic equation"
   ]
  },
  {
   "cell_type": "code",
   "execution_count": 36,
   "metadata": {},
   "outputs": [
    {
     "name": "stdout",
     "output_type": "stream",
     "text": [
      "The solutions are x1 = -0.18 and x2 = -44.82\n"
     ]
    }
   ],
   "source": [
    "# ax^2 + bx + c = 0\n",
    "a=1\n",
    "b=45\n",
    "c=8\n",
    "\n",
    "Discrimant = b**2 - 4*a*c\n",
    "if Discrimant<0:\n",
    "    print(f'Since Discrimant = {round(Discrimant,2)}, Solutions are complex values')\n",
    "else:\n",
    "    x1=(-b+Discrimant**0.5)/(2*a)\n",
    "    x2=(-b-Discrimant**0.5)/(2*a)\n",
    "    print(f\"The solutions are x1 = {round(x1,2)} and x2 = {round(x2,2)}\")"
   ]
  },
  {
   "cell_type": "markdown",
   "metadata": {},
   "source": [
    "#### Ex. 9 write a program to check leap year"
   ]
  },
  {
   "cell_type": "code",
   "execution_count": 48,
   "metadata": {},
   "outputs": [
    {
     "name": "stdout",
     "output_type": "stream",
     "text": [
      "2024 is a leap year\n"
     ]
    }
   ],
   "source": [
    "y=2024\n",
    "\n",
    "if (y%4==0 and y%100!=0) or (y%400==0):\n",
    "    print(f'{y} is a leap year')\n",
    "else:\n",
    "    print(f'{y} is not a leap year')"
   ]
  },
  {
   "cell_type": "markdown",
   "metadata": {},
   "source": [
    "#### Ex. 10 write a program to print all the prime numbers until a number n"
   ]
  },
  {
   "cell_type": "code",
   "execution_count": 10,
   "metadata": {},
   "outputs": [
    {
     "name": "stdout",
     "output_type": "stream",
     "text": [
      "list of the prime numbers until number 15 : \n",
      " [2, 3, 5, 7, 11, 13]\n"
     ]
    }
   ],
   "source": [
    "def isprime(n):\n",
    "    isprime=True\n",
    "\n",
    "    for i in range(2,n):\n",
    "        if n%i==0:\n",
    "            isprime=False\n",
    "    return isprime\n",
    "\n",
    "def list_primes(n):\n",
    "    list = []\n",
    "    m=2\n",
    "    while m <= n:\n",
    "        if isprime(m):\n",
    "            list.append(m)\n",
    "        m+=1    \n",
    "    return list\n",
    "\n",
    "num = 15\n",
    "#list_primes(num)\n",
    "print(f'list of the prime numbers until number {num} : \\n {list_primes(num)}')"
   ]
  },
  {
   "cell_type": "markdown",
   "metadata": {},
   "source": [
    "#### Ex. 11 write a program to display the multiplication table from 1 to 9"
   ]
  },
  {
   "cell_type": "code",
   "execution_count": 56,
   "metadata": {},
   "outputs": [
    {
     "name": "stdout",
     "output_type": "stream",
     "text": [
      "x [1, 2, 3, 4, 5, 6, 7, 8, 9]\n",
      "1 : [1, 2, 3, 4, 5, 6, 7, 8, 9]\n",
      "2 : [2, 4, 6, 8, 10, 12, 14, 16, 18]\n",
      "3 : [3, 6, 9, 12, 15, 18, 21, 24, 27]\n",
      "4 : [4, 8, 12, 16, 20, 24, 28, 32, 36]\n",
      "5 : [5, 10, 15, 20, 25, 30, 35, 40, 45]\n",
      "6 : [6, 12, 18, 24, 30, 36, 42, 48, 54]\n",
      "7 : [7, 14, 21, 28, 35, 42, 49, 56, 63]\n",
      "8 : [8, 16, 24, 32, 40, 48, 56, 64, 72]\n",
      "9 : [9, 18, 27, 36, 45, 54, 63, 72, 81]\n"
     ]
    }
   ],
   "source": [
    "#Defining the vector num:  list of numbers\n",
    "num = [x for x in range(1,10)]\n",
    "\n",
    "Mtable = {}\n",
    "# Displaying Multiplication table\n",
    "for i in range(1,10):\n",
    "    vec = []\n",
    "    for j in num:\n",
    "        vec.append(i*j)\n",
    "    Mtable[i] = vec\n",
    "\n",
    "print(f'x {num}')\n",
    "for number, values in Mtable.items():\n",
    "    print(f'{number} : {values}')\n",
    "    "
   ]
  },
  {
   "cell_type": "markdown",
   "metadata": {},
   "source": [
    "#### Ex.12 write a program to find the least common multiple (LCM) and the greatest common divisor (GCD)"
   ]
  },
  {
   "cell_type": "code",
   "execution_count": 94,
   "metadata": {},
   "outputs": [
    {
     "name": "stdout",
     "output_type": "stream",
     "text": [
      "For the numbers [10, 14, 35, 12, 45], LCM = 1260 and GCD = 1\n"
     ]
    }
   ],
   "source": [
    "# solver : for two numbers\n",
    "def solver(a,b):\n",
    "    GCD=1 # GCD : Greatest Common Divisor\n",
    "    min_n=min(a,b)\n",
    "    for n in range(1,min_n+1):\n",
    "        if (a%n==0) and (b%n==0):\n",
    "            GCD=n\n",
    "    LCM = int((a*b)/GCD) \n",
    "    return LCM,GCD\n",
    "\n",
    "#set of numbers\n",
    "\n",
    "numbers=[10,14,35,12,45]\n",
    "\n",
    "# Applying solver for a set of numbers\n",
    "\n",
    "LCM=numbers[0]\n",
    "GCD=numbers[0]\n",
    "\n",
    "for i in range(1,len(numbers)):\n",
    "    x = numbers[i]\n",
    "    LCM, _ = solver(LCM,x)\n",
    "    _ , GCD = solver(GCD,x)\n",
    "\n",
    "print(f'For the numbers {numbers}, LCM = {LCM} and GCD = {GCD}')"
   ]
  },
  {
   "cell_type": "markdown",
   "metadata": {},
   "source": [
    "#### Ex.13 Extraire le nom du fournisseur de services de messagerie"
   ]
  },
  {
   "cell_type": "code",
   "execution_count": 15,
   "metadata": {},
   "outputs": [
    {
     "name": "stdout",
     "output_type": "stream",
     "text": [
      "['datavizion.com', 'yahoo.com', 'google.com', 'healthcare']\n"
     ]
    }
   ],
   "source": [
    "emaillist=[\"KSR@datavizion.com\",\"mymail@yahoo.com\",\"milindmali@google.com\",\"snehal@healthcare\"]\n",
    "\n",
    "eservice = []\n",
    "\n",
    "for i in emaillist:\n",
    "\n",
    "    indice = i.find('@')\n",
    "    service = i[indice+1 :]\n",
    "    eservice.append(service)\n",
    "\n",
    "print(eservice)\n"
   ]
  },
  {
   "cell_type": "markdown",
   "metadata": {},
   "source": [
    "#### Ex. 14 Extraire les noms d'utilisateur des adresses e-mail présentes dans la chaîne de texte donnée"
   ]
  },
  {
   "cell_type": "code",
   "execution_count": 20,
   "metadata": {},
   "outputs": [
    {
     "name": "stdout",
     "output_type": "stream",
     "text": [
      "['milindmali108', 'milind']\n"
     ]
    }
   ],
   "source": [
    "string=\"Hi my name is Govind Das and my mail id is milindmali108@gmail.com and my org mail is milind@google.com\"\n",
    "\n",
    "str2 = string.split()\n",
    "\n",
    "all_emailid=[]\n",
    "\n",
    "for i in str2:\n",
    "    for j in i:\n",
    "        if j=='@':\n",
    "            ind = i.find('@')\n",
    "            emailid=i[:ind]\n",
    "            all_emailid.append(emailid)\n",
    "\n",
    "print(all_emailid)\n"
   ]
  },
  {
   "cell_type": "markdown",
   "metadata": {},
   "source": [
    "### Ex. 15  Créez une nouvelle liste l3 en respectant les règles suivantes :\n",
    "##### Si l'indice i est impair, ajoutez l'élément l1[i] à l3.\n",
    "##### Si l'indice i est pair, ajoutez l'élément l2[i] à l3."
   ]
  },
  {
   "cell_type": "code",
   "execution_count": 14,
   "metadata": {},
   "outputs": [
    {
     "name": "stdout",
     "output_type": "stream",
     "text": [
      "[4, 6, 12, 12, 20, 18, 28]\n"
     ]
    }
   ],
   "source": [
    "l1 = [3, 6, 9, 12, 15, 18, 21]\n",
    "l2 = [4, 8, 12, 16, 20, 24, 28]\n",
    "l3= []\n",
    "len3=max(len(l1),len(l2))\n",
    "\n",
    "for i in range(len3):\n",
    "    if i%2 != 0:\n",
    "        l3.append(l1[i])\n",
    "    elif i%2 == 0:\n",
    "        l3.append(l2[i])\n",
    "\n",
    "print(l3)"
   ]
  },
  {
   "cell_type": "code",
   "execution_count": 15,
   "metadata": {},
   "outputs": [
    {
     "data": {
      "text/plain": [
       "[6, 12, 18]"
      ]
     },
     "execution_count": 15,
     "metadata": {},
     "output_type": "execute_result"
    }
   ],
   "source": []
  }
 ],
 "metadata": {
  "kernelspec": {
   "display_name": "Python 3",
   "language": "python",
   "name": "python3"
  },
  "language_info": {
   "codemirror_mode": {
    "name": "ipython",
    "version": 3
   },
   "file_extension": ".py",
   "mimetype": "text/x-python",
   "name": "python",
   "nbconvert_exporter": "python",
   "pygments_lexer": "ipython3",
   "version": "3.10.12"
  },
  "orig_nbformat": 4
 },
 "nbformat": 4,
 "nbformat_minor": 2
}
