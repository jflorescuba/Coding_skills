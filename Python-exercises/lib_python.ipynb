{
 "cells": [
  {
   "cell_type": "code",
   "execution_count": 1,
   "metadata": {},
   "outputs": [],
   "source": [
    "# libraries\n",
    "\n",
    "import pandas as pd\n",
    "import numpy as np\n",
    "#import scipy \n",
    "\n",
    "import matplotlib.pyplot as plt\n",
    "import seaborn as sns"
   ]
  },
  {
   "cell_type": "markdown",
   "metadata": {},
   "source": [
    "##### Exercise 01: Supposons que nous avons des données sur les ventes mensuelles d'un produit et nous voulons effectuer quelques opérations de base à l'aide de Series de Pandas, comme calculer la somme des ventes, trouver la valeur maximale, et calculer la moyenne"
   ]
  },
  {
   "cell_type": "code",
   "execution_count": 2,
   "metadata": {},
   "outputs": [
    {
     "name": "stdout",
     "output_type": "stream",
     "text": [
      "Janvier    35000\n",
      "Février    42000\n",
      "Mars       28000\n",
      "Avril      30000\n",
      "dtype: int64\n",
      "la somme des ventes = \t 135000\n",
      "la valeur maximale des ventes = \t 42000\n",
      "la moyenne des ventes = \t 33750.0\n"
     ]
    }
   ],
   "source": [
    "mois = np.array(['Janvier','Février','Mars','Avril'])\n",
    "ventes_mois= np.array([35000, 42000, 28000, 30000])\n",
    "ventes = pd.Series(ventes_mois, index= mois)\n",
    "print(ventes)\n",
    "print(f'la somme des ventes = \\t {ventes.sum()}')\n",
    "print(f'la valeur maximale des ventes = \\t {ventes.max()}')\n",
    "print(f'la moyenne des ventes = \\t {ventes.mean()}')    "
   ]
  },
  {
   "cell_type": "code",
   "execution_count": null,
   "metadata": {},
   "outputs": [],
   "source": [
    "\n",
    "\n"
   ]
  },
  {
   "cell_type": "code",
   "execution_count": null,
   "metadata": {},
   "outputs": [],
   "source": []
  }
 ],
 "metadata": {
  "kernelspec": {
   "display_name": "Python 3",
   "language": "python",
   "name": "python3"
  },
  "language_info": {
   "codemirror_mode": {
    "name": "ipython",
    "version": 3
   },
   "file_extension": ".py",
   "mimetype": "text/x-python",
   "name": "python",
   "nbconvert_exporter": "python",
   "pygments_lexer": "ipython3",
   "version": "3.10.12"
  }
 },
 "nbformat": 4,
 "nbformat_minor": 2
}
