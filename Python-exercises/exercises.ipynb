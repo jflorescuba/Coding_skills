{
 "cells": [
  {
   "cell_type": "markdown",
   "metadata": {},
   "source": [
    "# exercises "
   ]
  },
  {
   "cell_type": "markdown",
   "metadata": {},
   "source": [
    "#Ex. 1 write a program that converts temperature from Celsius to Fahrenheit. "
   ]
  },
  {
   "cell_type": "code",
   "execution_count": 8,
   "metadata": {},
   "outputs": [
    {
     "name": "stdout",
     "output_type": "stream",
     "text": [
      "The temperature of 32.0 Celsius in Fahrenheit is : 89.6\n"
     ]
    }
   ],
   "source": [
    "def cel2far(temp):\n",
    "    tempf=(temp*9/5) + 32\n",
    "    return tempf\n",
    "\n",
    "Temperature=float(input(\"Type the temperature to convert from Celsius to Fahrenheit\"))\n",
    "\n",
    "print(f\"The temperature of {Temperature} degrees Celsius in Fahrenheit is : {cel2far(Temperature)}\")"
   ]
  },
  {
   "cell_type": "markdown",
   "metadata": {},
   "source": [
    "#Ex. 2 "
   ]
  },
  {
   "cell_type": "markdown",
   "metadata": {},
   "source": []
  }
 ],
 "metadata": {
  "kernelspec": {
   "display_name": "Python 3",
   "language": "python",
   "name": "python3"
  },
  "language_info": {
   "codemirror_mode": {
    "name": "ipython",
    "version": 3
   },
   "file_extension": ".py",
   "mimetype": "text/x-python",
   "name": "python",
   "nbconvert_exporter": "python",
   "pygments_lexer": "ipython3",
   "version": "3.11.1"
  },
  "orig_nbformat": 4
 },
 "nbformat": 4,
 "nbformat_minor": 2
}
