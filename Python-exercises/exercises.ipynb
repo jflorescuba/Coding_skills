{
 "cells": [
  {
   "cell_type": "markdown",
   "metadata": {},
   "source": [
    "## Python programs : Exercises "
   ]
  },
  {
   "cell_type": "markdown",
   "metadata": {},
   "source": [
    "#### Ex. 1 write a program that converts temperature from Celsius to Fahrenheit. "
   ]
  },
  {
   "cell_type": "code",
   "execution_count": 1,
   "metadata": {},
   "outputs": [
    {
     "name": "stdout",
     "output_type": "stream",
     "text": [
      "The temperature of 56.0 degrees Celsius in Fahrenheit is : 132.8\n"
     ]
    }
   ],
   "source": [
    "def cel2far(temp):\n",
    "    tempf=(temp*9/5) + 32\n",
    "    return tempf\n",
    "\n",
    "Temperature=float(input(\"Type the temperature to convert from Celsius to Fahrenheit\"))\n",
    "\n",
    "print(f\"The temperature of {Temperature} degrees Celsius in Fahrenheit is : {cel2far(Temperature)}\")"
   ]
  },
  {
   "cell_type": "markdown",
   "metadata": {},
   "source": [
    "#### Ex. 2 write a program : calculer la somme des nombres pairs jusqu'à un certain nombre n"
   ]
  },
  {
   "cell_type": "code",
   "execution_count": 17,
   "metadata": {},
   "outputs": [
    {
     "name": "stdout",
     "output_type": "stream",
     "text": [
      "The sum of pair values before n is : 20\n"
     ]
    }
   ],
   "source": [
    "def sum_even_numbers(n):\n",
    "    number=0\n",
    "    res=0\n",
    "    while number < n:\n",
    "        res += number\n",
    "        number = number + 2\n",
    "\n",
    "    return res\n",
    "n=9 #int(input(\"enter an integer n\"))\n",
    "sum_even_n=sum_even_numbers(n)\n",
    "print(f\"The sum of pair values before n is : {sum_even_n}\")\n"
   ]
  },
  {
   "cell_type": "markdown",
   "metadata": {},
   "source": [
    "#### Ex. 3 write a program: vérifier si une chaîne est un palindrome:"
   ]
  },
  {
   "cell_type": "code",
   "execution_count": 54,
   "metadata": {},
   "outputs": [
    {
     "name": "stdout",
     "output_type": "stream",
     "text": [
      "The word/phrase Engage le jeu que je le gagne is a palindrome\n"
     ]
    }
   ],
   "source": [
    "def is_palindrome(s):\n",
    "    is_p=1 # si c'est un palindrome\n",
    "    s_dir_temp = s.split()\n",
    "    s_dir=''.join(s_dir_temp).lower()\n",
    "    s_inv=s_dir[::-1]\n",
    "    if s_dir != s_inv:\n",
    "        is_p=0\n",
    "\n",
    "    return is_p\n",
    "\n",
    "s=\"Engage le jeu que je le gagne\" #input(\"enter a word or phrase\")\n",
    "is_p=is_palindrome(s)\n",
    "\n",
    "if is_p==1:\n",
    "    print(f\"The word/phrase {s} is a palindrome\")\n",
    "\n",
    "else:\n",
    "    print(f\"The word/phrase {s} is not a palindrome\")\n"
   ]
  },
  {
   "cell_type": "markdown",
   "metadata": {},
   "source": [
    "#### Ex. 4 write a program: qui prend les nombres de 1 à n et les ajoute à une liste uniquement s'ils sont pairs."
   ]
  },
  {
   "cell_type": "code",
   "execution_count": 13,
   "metadata": {},
   "outputs": [
    {
     "name": "stdout",
     "output_type": "stream",
     "text": [
      "[2, 4, 6, 8, 10, 12, 14, 16, 18, 20, 22]\n"
     ]
    }
   ],
   "source": [
    "def vec(number):\n",
    "\n",
    "    i=1\n",
    "    lis=[]\n",
    "    while (i<=number):\n",
    "        if (i%2==0):\n",
    "            lis.append(i)\n",
    "        i+=1\n",
    "    return lis \n",
    "\n",
    "maxn=23 #number n\n",
    "\n",
    "v=vec(maxn)\n",
    "print(v)"
   ]
  },
  {
   "cell_type": "markdown",
   "metadata": {},
   "source": [
    "#### Ex. 5 write a program: qui prend une chaine de caractères en entrée et retourne un dictionnaire contenant le décompte de chaque caractère présent dans le chaîne."
   ]
  },
  {
   "cell_type": "code",
   "execution_count": 1,
   "metadata": {},
   "outputs": [
    {
     "name": "stdout",
     "output_type": "stream",
     "text": [
      "Compte des caractères dans la phrase :\n",
      "{'B': 1, 'o': 3, 'n': 2, 'j': 1, 'u': 1, 'r': 1, ' ': 3, 'l': 1, 'e': 2, 'm': 1, 'd': 1, '!': 1}\n"
     ]
    }
   ],
   "source": [
    "def compter_caracteres(chaine):\n",
    "    compte = {}\n",
    "    for caractere in chaine:\n",
    "        if caractere in compte:\n",
    "            compte[caractere] += 1\n",
    "        else:\n",
    "            compte[caractere] = 1\n",
    "    return compte\n",
    "\n",
    "phrase = \"Bonjour le monde !\"\n",
    "resultat = compter_caracteres(phrase)\n",
    "print(\"Compte des caractères dans la phrase :\")\n",
    "print(resultat)\n"
   ]
  },
  {
   "cell_type": "markdown",
   "metadata": {},
   "source": [
    "#### Ex. 6 write a program: calculer le factoriel d'un nombre donné."
   ]
  },
  {
   "cell_type": "code",
   "execution_count": 5,
   "metadata": {},
   "outputs": [
    {
     "name": "stdout",
     "output_type": "stream",
     "text": [
      "factorial de 6 est = \t720\n"
     ]
    }
   ],
   "source": [
    "def fac(n):\n",
    "    fac=1\n",
    "    i=1\n",
    "    while i<=n:\n",
    "        fac*=i\n",
    "        i+=1\n",
    "    return(fac)\n",
    "n=6\n",
    "\n",
    "print(f'factorial de {n} est = \\t{fac(n)}')"
   ]
  },
  {
   "cell_type": "markdown",
   "metadata": {},
   "source": [
    "#### Ex. 7 write a program pour déterminer le jour de la semaine pour une date spécifique et ensuite afficher ce jour en mots."
   ]
  },
  {
   "cell_type": "code",
   "execution_count": 19,
   "metadata": {},
   "outputs": [
    {
     "name": "stdout",
     "output_type": "stream",
     "text": [
      "the weekday is : Vendredi\n"
     ]
    }
   ],
   "source": [
    "import calendar\n",
    "\n",
    "day=11\n",
    "month=3\n",
    "year=1988\n",
    "cal=calendar.weekday(year,month,day)\n",
    "weekday = ['Lundi', 'Mardi', 'Mercredi', 'Jeudi', 'Vendredi', 'Samedi', 'Dimanche']\n",
    "print(f\"the weekday is : {weekday[cal]}\")"
   ]
  },
  {
   "cell_type": "markdown",
   "metadata": {},
   "source": [
    "#### Ex. 8 Write a program to solve quadratic equation\n",
    "\n"
   ]
  },
  {
   "cell_type": "code",
   "execution_count": 36,
   "metadata": {},
   "outputs": [
    {
     "name": "stdout",
     "output_type": "stream",
     "text": [
      "The solutions are x1 = -0.18 and x2 = -44.82\n"
     ]
    }
   ],
   "source": [
    "# ax^2 + bx + c = 0\n",
    "a=1\n",
    "b=45\n",
    "c=8\n",
    "\n",
    "Discrimant = b**2 - 4*a*c\n",
    "if Discrimant<0:\n",
    "    print(f'Since Discrimant = {round(Discrimant,2)}, Solutions are complex values')\n",
    "else:\n",
    "    x1=(-b+Discrimant**0.5)/(2*a)\n",
    "    x2=(-b-Discrimant**0.5)/(2*a)\n",
    "    print(f\"The solutions are x1 = {round(x1,2)} and x2 = {round(x2,2)}\")"
   ]
  }
 ],
 "metadata": {
  "kernelspec": {
   "display_name": "Python 3",
   "language": "python",
   "name": "python3"
  },
  "language_info": {
   "codemirror_mode": {
    "name": "ipython",
    "version": 3
   },
   "file_extension": ".py",
   "mimetype": "text/x-python",
   "name": "python",
   "nbconvert_exporter": "python",
   "pygments_lexer": "ipython3",
   "version": "3.10.12"
  },
  "orig_nbformat": 4
 },
 "nbformat": 4,
 "nbformat_minor": 2
}
