{
 "cells": [
  {
   "cell_type": "markdown",
   "metadata": {},
   "source": [
    "# exercises "
   ]
  },
  {
   "cell_type": "markdown",
   "metadata": {},
   "source": [
    "### Ex. 1 write a program that converts temperature from Celsius to Fahrenheit. "
   ]
  },
  {
   "cell_type": "code",
   "execution_count": 1,
   "metadata": {},
   "outputs": [
    {
     "name": "stdout",
     "output_type": "stream",
     "text": [
      "The temperature of 56.0 degrees Celsius in Fahrenheit is : 132.8\n"
     ]
    }
   ],
   "source": [
    "def cel2far(temp):\n",
    "    tempf=(temp*9/5) + 32\n",
    "    return tempf\n",
    "\n",
    "Temperature=float(input(\"Type the temperature to convert from Celsius to Fahrenheit\"))\n",
    "\n",
    "print(f\"The temperature of {Temperature} degrees Celsius in Fahrenheit is : {cel2far(Temperature)}\")"
   ]
  },
  {
   "cell_type": "markdown",
   "metadata": {},
   "source": [
    "### Ex. 2 write a program : calculer la somme des nombres pairs jusqu'à un certain nombre n"
   ]
  },
  {
   "cell_type": "code",
   "execution_count": 17,
   "metadata": {},
   "outputs": [
    {
     "name": "stdout",
     "output_type": "stream",
     "text": [
      "The sum of pair values before n is : 20\n"
     ]
    }
   ],
   "source": [
    "def sum_even_numbers(n):\n",
    "    number=0\n",
    "    res=0\n",
    "    while number < n:\n",
    "        res += number\n",
    "        number = number + 2\n",
    "\n",
    "    return res\n",
    "n=9 #int(input(\"enter an integer n\"))\n",
    "sum_even_n=sum_even_numbers(n)\n",
    "print(f\"The sum of pair values before n is : {sum_even_n}\")\n"
   ]
  },
  {
   "cell_type": "markdown",
   "metadata": {},
   "source": [
    "### Ex. 3 write a program: vérifier si une chaîne est un palindrome:"
   ]
  },
  {
   "cell_type": "code",
   "execution_count": 53,
   "metadata": {},
   "outputs": [
    {
     "name": "stdout",
     "output_type": "stream",
     "text": [
      "The word/phrase Engage le jeu que je le gagne is a palindrome\n"
     ]
    }
   ],
   "source": [
    "def is_palindrome(s):\n",
    "    is_p=1 # si c'est un palindrome\n",
    "    s_dir_temp = s.split()\n",
    "    s_dir=''.join(s_dir_temp).lower()\n",
    "    s_inv=s_dir[::-1]\n",
    "    if s_dir != s_inv:\n",
    "        is_p=0\n",
    "\n",
    "    return is_p\n",
    "\n",
    "s=\"Engage le jeu que je le gagne\" #input(\"enter a word or phrase\")\n",
    "is_p=is_palindrome(s)\n",
    "\n",
    "if is_p==1:\n",
    "    print(f\"The word/phrase {s} is a palindrome\")\n",
    "\n",
    "else:\n",
    "    print(f\"The word/phrase {s} is not a palindrome\")\n"
   ]
  },
  {
   "cell_type": "code",
   "execution_count": 49,
   "metadata": {},
   "outputs": [
    {
     "name": "stdout",
     "output_type": "stream",
     "text": [
      "tacocat\n"
     ]
    }
   ],
   "source": []
  },
  {
   "cell_type": "code",
   "execution_count": 22,
   "metadata": {},
   "outputs": [
    {
     "name": "stdout",
     "output_type": "stream",
     "text": [
      "['a', 'l', 'o', 'h']\n"
     ]
    }
   ],
   "source": []
  },
  {
   "cell_type": "code",
   "execution_count": null,
   "metadata": {},
   "outputs": [],
   "source": []
  }
 ],
 "metadata": {
  "kernelspec": {
   "display_name": "Python 3",
   "language": "python",
   "name": "python3"
  },
  "language_info": {
   "codemirror_mode": {
    "name": "ipython",
    "version": 3
   },
   "file_extension": ".py",
   "mimetype": "text/x-python",
   "name": "python",
   "nbconvert_exporter": "python",
   "pygments_lexer": "ipython3",
   "version": "3.10.12"
  },
  "orig_nbformat": 4
 },
 "nbformat": 4,
 "nbformat_minor": 2
}
